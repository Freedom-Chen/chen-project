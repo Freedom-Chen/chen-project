{
 "cells": [
  {
   "cell_type": "code",
   "execution_count": null,
   "metadata": {},
   "outputs": [],
   "source": [
    "import pandas as pd\n",
    "import numpy as np"
   ]
  },
  {
   "cell_type": "code",
   "execution_count": 5,
   "metadata": {},
   "outputs": [],
   "source": [
    "filename = 'gupiao.csv'"
   ]
  },
  {
   "cell_type": "code",
   "execution_count": 6,
   "metadata": {},
   "outputs": [],
   "source": [
    "data_array = np.loadtxt(filename,\n",
    "                       delimiter=',',\n",
    "                       dtype=str,\n",
    "                        usecols = (0,1,2,3,4,5,6),\n",
    "                        encoding = 'utf8'\n",
    "                       )"
   ]
  },
  {
   "cell_type": "code",
   "execution_count": 8,
   "metadata": {
    "collapsed": true
   },
   "outputs": [
    {
     "name": "stdout",
     "output_type": "stream",
     "text": [
      "[['MMM' '3M' '164.88' '+2.78' '+1.71%' '\"3' '247']\n",
      " ['AXP' 'American Express' '126.32' '+2.37' '+1.91%' '\"3' '212']\n",
      " ['AAPL' 'Apple' '208.97' '+8.49' '+4.23%' '\"47' '539']\n",
      " ['BA' 'Boeing' '332.86' '-0.08' '-0.02%' '\"3' '722']\n",
      " ['CAT' 'Caterpillar' '119.01' '+2.29' '+1.96%' '\"4' '363']\n",
      " ['CVX' 'Chevron' '122.39' '+0.84' '+0.69%' '\"5' '861']\n",
      " ['CSCO' 'Cisco' '52.72' '+1.18' '+2.29%' '\"21' '679']\n",
      " ['KO' 'Coca-Cola' '53.50' '+0.30' '+0.56%' '\"8' '657']\n",
      " ['DIS' 'Disney' '137.01' '+1.26' '+0.93%' '\"8' '196']\n",
      " ['DOW' 'Dow Chemical' '46.85' '+1.16' '+2.54%' '\"5' '415']\n",
      " ['XOM' 'Exxon Mobil' '70.49' '+0.86' '+1.24%' '\"12' '438']\n",
      " ['GS' 'Goldman Sachs' '204.11' '+2.59' '+1.29%' '\"2' '157']\n",
      " ['HD' 'Home Depot' '208.33' '+1.32' '+0.64%' '\"3' '906']\n",
      " ['IBM' 'IBM' '135.79' '+2.12' '+1.59%' '\"4' '551']\n",
      " ['INTC' 'Intel' '46.84' '+1.24' '+2.72%' '\"29' '374']\n",
      " ['JNJ' 'Johnson & Johnson' '133.42' '+1.49' '+1.13%' '\"5' '101']\n",
      " ['JPM' 'JPMorgan Chase' '109.34' '+1.66' '+1.54%' '\"12' '236']\n",
      " ['MCD' \"McDonald's\" '219.73' '+2.57' '+1.18%' '\"2' '923']\n",
      " ['MRK' 'Merck' '86.08' '+1.06' '+1.25%' '\"8' '062']\n",
      " ['MSFT' 'Microsoft' '138.14' '+2.81' '+2.07%' '\"25' '496']\n",
      " ['NKE' 'Nike' '83.32' '+1.67' '+2.05%' '\"6' '940']\n",
      " ['PFE' 'Pfizer' '35.20' '-0.19' '-0.54%' '\"43' '252']\n",
      " ['PG' 'Procter & Gamble' '117.25' '+1.22' '+1.05%' '\"6' '757']\n",
      " ['TRV' 'Travelers Companies Inc' '148.22' '+1.77' '+1.21%' '\"1' '112']\n",
      " ['UTX' 'United Technologies' '128.95' '+0.93' '+0.73%' '\"2' '403']\n",
      " ['UNH' 'UnitedHealth' '249.22' '+6.02' '+2.48%' '\"2' '774']\n",
      " ['VZ' 'Verizon' '56.37' '+0.68' '+1.22%' '\"11' '084']\n",
      " ['V' 'Visa' '178.61' '+2.27' '+1.29%' '\"2' '231\"']\n",
      " ['WMT' 'Wal-Mart' '107.41' '+2.19' '+2.08%' '\"6' '722']\n",
      " ['WBA' 'Walgreen' '53.07' '+1.07' '+2.06%' '\"5' '274']]\n"
     ]
    }
   ],
   "source": [
    "print(data_array)"
   ]
  },
  {
   "cell_type": "code",
   "execution_count": 10,
   "metadata": {},
   "outputs": [],
   "source": [
    "ser_obj = pd.DataFrame(data_array)"
   ]
  },
  {
   "cell_type": "markdown",
   "metadata": {},
   "source": [
    "# 获取前五行的股票数据"
   ]
  },
  {
   "cell_type": "code",
   "execution_count": 11,
   "metadata": {},
   "outputs": [
    {
     "name": "stdout",
     "output_type": "stream",
     "text": [
      "      0                 1       2      3       4    5    6\n",
      "0   MMM                3M  164.88  +2.78  +1.71%   \"3  247\n",
      "1   AXP  American Express  126.32  +2.37  +1.91%   \"3  212\n",
      "2  AAPL             Apple  208.97  +8.49  +4.23%  \"47  539\n",
      "3    BA            Boeing  332.86  -0.08  -0.02%   \"3  722\n",
      "4   CAT       Caterpillar  119.01  +2.29  +1.96%   \"4  363\n"
     ]
    }
   ],
   "source": [
    "print(ser_obj.head(5))"
   ]
  },
  {
   "cell_type": "markdown",
   "metadata": {},
   "source": [
    "# 获取股票代码"
   ]
  },
  {
   "cell_type": "code",
   "execution_count": 12,
   "metadata": {
    "collapsed": true
   },
   "outputs": [
    {
     "name": "stdout",
     "output_type": "stream",
     "text": [
      "0      MMM\n",
      "1      AXP\n",
      "2     AAPL\n",
      "3       BA\n",
      "4      CAT\n",
      "5      CVX\n",
      "6     CSCO\n",
      "7       KO\n",
      "8      DIS\n",
      "9      DOW\n",
      "10     XOM\n",
      "11      GS\n",
      "12      HD\n",
      "13     IBM\n",
      "14    INTC\n",
      "15     JNJ\n",
      "16     JPM\n",
      "17     MCD\n",
      "18     MRK\n",
      "19    MSFT\n",
      "20     NKE\n",
      "21     PFE\n",
      "22      PG\n",
      "23     TRV\n",
      "24     UTX\n",
      "25     UNH\n",
      "26      VZ\n",
      "27       V\n",
      "28     WMT\n",
      "29     WBA\n",
      "Name: 0, dtype: object\n"
     ]
    }
   ],
   "source": [
    "print(ser_obj[0])"
   ]
  },
  {
   "cell_type": "markdown",
   "metadata": {},
   "source": [
    "# 返回第一只股票的股价"
   ]
  },
  {
   "cell_type": "code",
   "execution_count": 14,
   "metadata": {},
   "outputs": [
    {
     "name": "stdout",
     "output_type": "stream",
     "text": [
      "164.88\n"
     ]
    }
   ],
   "source": [
    "print(ser_obj[2][0])"
   ]
  },
  {
   "cell_type": "markdown",
   "metadata": {},
   "source": [
    "# 计算平均的股价"
   ]
  },
  {
   "cell_type": "code",
   "execution_count": 23,
   "metadata": {},
   "outputs": [
    {
     "name": "stdout",
     "output_type": "stream",
     "text": [
      "129.14666666666668\n"
     ]
    }
   ],
   "source": [
    "df = ser_obj[2]\n",
    "df_float = df.astype(np.float64)\n",
    "print(np.mean(df_float))"
   ]
  },
  {
   "cell_type": "markdown",
   "metadata": {},
   "source": [
    "# 计算股价大于180的公司的名称"
   ]
  },
  {
   "cell_type": "code",
   "execution_count": 26,
   "metadata": {
    "collapsed": true
   },
   "outputs": [
    {
     "name": "stdout",
     "output_type": "stream",
     "text": [
      "2             Apple\n",
      "3            Boeing\n",
      "11    Goldman Sachs\n",
      "12       Home Depot\n",
      "17       McDonald's\n",
      "25     UnitedHealth\n",
      "Name: 1, dtype: object\n"
     ]
    }
   ],
   "source": [
    "bool_price  = df_float > 180\n",
    "\n",
    "print(ser_obj[1][bool_price])"
   ]
  },
  {
   "cell_type": "markdown",
   "metadata": {},
   "source": [
    "# 找出股价前三名的公司，降序排序"
   ]
  },
  {
   "cell_type": "code",
   "execution_count": 35,
   "metadata": {},
   "outputs": [
    {
     "name": "stdout",
     "output_type": "stream",
     "text": [
      "       0                        1       2      3       4    5     6\n",
      "18   MRK                    Merck   86.08  +1.06  +1.25%   \"8   062\n",
      "20   NKE                     Nike   83.32  +1.67  +2.05%   \"6   940\n",
      "10   XOM              Exxon Mobil   70.49  +0.86  +1.24%  \"12   438\n",
      "26    VZ                  Verizon   56.37  +0.68  +1.22%  \"11   084\n",
      "7     KO                Coca-Cola   53.50  +0.30  +0.56%   \"8   657\n",
      "29   WBA                 Walgreen   53.07  +1.07  +2.06%   \"5   274\n",
      "6   CSCO                    Cisco   52.72  +1.18  +2.29%  \"21   679\n",
      "9    DOW             Dow Chemical   46.85  +1.16  +2.54%   \"5   415\n",
      "14  INTC                    Intel   46.84  +1.24  +2.72%  \"29   374\n",
      "21   PFE                   Pfizer   35.20  -0.19  -0.54%  \"43   252\n",
      "3     BA                   Boeing  332.86  -0.08  -0.02%   \"3   722\n",
      "25   UNH             UnitedHealth  249.22  +6.02  +2.48%   \"2   774\n",
      "17   MCD               McDonald's  219.73  +2.57  +1.18%   \"2   923\n",
      "2   AAPL                    Apple  208.97  +8.49  +4.23%  \"47   539\n",
      "12    HD               Home Depot  208.33  +1.32  +0.64%   \"3   906\n",
      "11    GS            Goldman Sachs  204.11  +2.59  +1.29%   \"2   157\n",
      "27     V                     Visa  178.61  +2.27  +1.29%   \"2  231\"\n",
      "0    MMM                       3M  164.88  +2.78  +1.71%   \"3   247\n",
      "23   TRV  Travelers Companies Inc  148.22  +1.77  +1.21%   \"1   112\n",
      "19  MSFT                Microsoft  138.14  +2.81  +2.07%  \"25   496\n",
      "8    DIS                   Disney  137.01  +1.26  +0.93%   \"8   196\n",
      "13   IBM                      IBM  135.79  +2.12  +1.59%   \"4   551\n",
      "15   JNJ        Johnson & Johnson  133.42  +1.49  +1.13%   \"5   101\n",
      "24   UTX      United Technologies  128.95  +0.93  +0.73%   \"2   403\n",
      "1    AXP         American Express  126.32  +2.37  +1.91%   \"3   212\n",
      "5    CVX                  Chevron  122.39  +0.84  +0.69%   \"5   861\n",
      "4    CAT              Caterpillar  119.01  +2.29  +1.96%   \"4   363\n",
      "22    PG         Procter & Gamble  117.25  +1.22  +1.05%   \"6   757\n",
      "16   JPM           JPMorgan Chase  109.34  +1.66  +1.54%  \"12   236\n",
      "28   WMT                 Wal-Mart  107.41  +2.19  +2.08%   \"6   722\n"
     ]
    }
   ],
   "source": [
    "print(ser_obj.sort_values(by=2,axis=0, ascending=False))"
   ]
  },
  {
   "cell_type": "code",
   "execution_count": null,
   "metadata": {},
   "outputs": [],
   "source": []
  },
  {
   "cell_type": "code",
   "execution_count": null,
   "metadata": {},
   "outputs": [],
   "source": []
  },
  {
   "cell_type": "code",
   "execution_count": null,
   "metadata": {},
   "outputs": [],
   "source": []
  }
 ],
 "metadata": {
  "kernelspec": {
   "display_name": "Python 3",
   "language": "python",
   "name": "python3"
  },
  "language_info": {
   "codemirror_mode": {
    "name": "ipython",
    "version": 3
   },
   "file_extension": ".py",
   "mimetype": "text/x-python",
   "name": "python",
   "nbconvert_exporter": "python",
   "pygments_lexer": "ipython3",
   "version": "3.6.5"
  }
 },
 "nbformat": 4,
 "nbformat_minor": 2
}
